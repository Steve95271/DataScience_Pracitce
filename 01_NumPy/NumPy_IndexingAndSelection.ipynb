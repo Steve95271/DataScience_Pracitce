{
 "cells": [
  {
   "cell_type": "code",
   "id": "initial_id",
   "metadata": {
    "collapsed": true,
    "ExecuteTime": {
     "end_time": "2025-02-03T11:05:12.554499Z",
     "start_time": "2025-02-03T11:05:12.510167Z"
    }
   },
   "source": "import numpy as np",
   "outputs": [],
   "execution_count": 4
  },
  {
   "metadata": {
    "ExecuteTime": {
     "end_time": "2025-02-03T11:05:12.588863Z",
     "start_time": "2025-02-03T11:05:12.559664Z"
    }
   },
   "cell_type": "code",
   "source": [
    "arr = np.random.randint(1, 100, 10)\n",
    "print(arr)"
   ],
   "id": "a5e7de678b87ce22",
   "outputs": [
    {
     "name": "stdout",
     "output_type": "stream",
     "text": [
      "[49 22 49 51 67 33 36 54 62 21]\n"
     ]
    }
   ],
   "execution_count": 5
  },
  {
   "metadata": {
    "ExecuteTime": {
     "end_time": "2025-02-03T11:05:12.601193Z",
     "start_time": "2025-02-03T11:05:12.599716Z"
    }
   },
   "cell_type": "code",
   "source": "print(arr[2])",
   "id": "641bf2c69efe7a8b",
   "outputs": [
    {
     "name": "stdout",
     "output_type": "stream",
     "text": [
      "49\n"
     ]
    }
   ],
   "execution_count": 6
  },
  {
   "metadata": {
    "ExecuteTime": {
     "end_time": "2025-02-03T11:05:12.618302Z",
     "start_time": "2025-02-03T11:05:12.615669Z"
    }
   },
   "cell_type": "code",
   "source": "arr[1:5]",
   "id": "ad1d31ca5b23c1cf",
   "outputs": [
    {
     "data": {
      "text/plain": [
       "array([22, 49, 51, 67])"
      ]
     },
     "execution_count": 7,
     "metadata": {},
     "output_type": "execute_result"
    }
   ],
   "execution_count": 7
  },
  {
   "metadata": {
    "ExecuteTime": {
     "end_time": "2025-02-03T11:05:12.634208Z",
     "start_time": "2025-02-03T11:05:12.631805Z"
    }
   },
   "cell_type": "code",
   "source": [
    "arr[0:5] = 100\n",
    "arr"
   ],
   "id": "8fcc5346e3058b21",
   "outputs": [
    {
     "data": {
      "text/plain": [
       "array([100, 100, 100, 100, 100,  33,  36,  54,  62,  21])"
      ]
     },
     "execution_count": 8,
     "metadata": {},
     "output_type": "execute_result"
    }
   ],
   "execution_count": 8
  },
  {
   "metadata": {
    "ExecuteTime": {
     "end_time": "2025-02-03T11:05:12.650832Z",
     "start_time": "2025-02-03T11:05:12.648598Z"
    }
   },
   "cell_type": "code",
   "source": [
    "# Assign part of the array to a variable\n",
    "sliceOfArray = arr[0:5]\n",
    "sliceOfArray"
   ],
   "id": "44c87eac670895f5",
   "outputs": [
    {
     "data": {
      "text/plain": [
       "array([100, 100, 100, 100, 100])"
      ]
     },
     "execution_count": 9,
     "metadata": {},
     "output_type": "execute_result"
    }
   ],
   "execution_count": 9
  },
  {
   "metadata": {
    "ExecuteTime": {
     "end_time": "2025-02-03T11:05:12.660001Z",
     "start_time": "2025-02-03T11:05:12.657872Z"
    }
   },
   "cell_type": "code",
   "source": [
    "# If make change at sliceOfArray, will change the original array\n",
    "sliceOfArray[:] = 77\n",
    "arr"
   ],
   "id": "85eac8c4730537be",
   "outputs": [
    {
     "data": {
      "text/plain": [
       "array([77, 77, 77, 77, 77, 33, 36, 54, 62, 21])"
      ]
     },
     "execution_count": 10,
     "metadata": {},
     "output_type": "execute_result"
    }
   ],
   "execution_count": 10
  },
  {
   "metadata": {
    "ExecuteTime": {
     "end_time": "2025-02-03T11:05:12.670022Z",
     "start_time": "2025-02-03T11:05:12.668511Z"
    }
   },
   "cell_type": "code",
   "source": [
    "# Using .copy() method to copy a new array that make change on new array but will not affecting the original array\n",
    "array2 = np.random.randint(1, 100, 10)\n",
    "array2Copy = array2.copy()\n",
    "array2Copy[0:5] = 78"
   ],
   "id": "3da15507f57aeea",
   "outputs": [],
   "execution_count": 11
  },
  {
   "metadata": {
    "ExecuteTime": {
     "end_time": "2025-02-03T11:05:12.683803Z",
     "start_time": "2025-02-03T11:05:12.681758Z"
    }
   },
   "cell_type": "code",
   "source": "array2",
   "id": "d726d6c573d0d9b3",
   "outputs": [
    {
     "data": {
      "text/plain": [
       "array([39, 52,  7, 61, 86, 11, 60, 60, 23, 35])"
      ]
     },
     "execution_count": 12,
     "metadata": {},
     "output_type": "execute_result"
    }
   ],
   "execution_count": 12
  },
  {
   "metadata": {
    "ExecuteTime": {
     "end_time": "2025-02-03T11:05:12.694204Z",
     "start_time": "2025-02-03T11:05:12.692308Z"
    }
   },
   "cell_type": "code",
   "source": "array2Copy",
   "id": "634743dced223efa",
   "outputs": [
    {
     "data": {
      "text/plain": [
       "array([78, 78, 78, 78, 78, 11, 60, 60, 23, 35])"
      ]
     },
     "execution_count": 13,
     "metadata": {},
     "output_type": "execute_result"
    }
   ],
   "execution_count": 13
  },
  {
   "metadata": {
    "ExecuteTime": {
     "end_time": "2025-02-03T11:05:12.701248Z",
     "start_time": "2025-02-03T11:05:12.699703Z"
    }
   },
   "cell_type": "code",
   "source": "twoDArray = np.array([[1, 2, 3], [4, 5, 6], [7, 8, 9]])",
   "id": "58a28a2a9795c48e",
   "outputs": [],
   "execution_count": 14
  },
  {
   "metadata": {
    "ExecuteTime": {
     "end_time": "2025-02-03T11:05:12.709530Z",
     "start_time": "2025-02-03T11:05:12.707743Z"
    }
   },
   "cell_type": "code",
   "source": "print(twoDArray)",
   "id": "449da694a31e6749",
   "outputs": [
    {
     "name": "stdout",
     "output_type": "stream",
     "text": [
      "[[1 2 3]\n",
      " [4 5 6]\n",
      " [7 8 9]]\n"
     ]
    }
   ],
   "execution_count": 15
  },
  {
   "metadata": {
    "ExecuteTime": {
     "end_time": "2025-02-03T11:05:12.721457Z",
     "start_time": "2025-02-03T11:05:12.719419Z"
    }
   },
   "cell_type": "code",
   "source": "print(twoDArray[:2, 1:])",
   "id": "6c807368f0257a6",
   "outputs": [
    {
     "name": "stdout",
     "output_type": "stream",
     "text": [
      "[[2 3]\n",
      " [5 6]]\n"
     ]
    }
   ],
   "execution_count": 16
  },
  {
   "metadata": {
    "ExecuteTime": {
     "end_time": "2025-02-03T11:05:12.733595Z",
     "start_time": "2025-02-03T11:05:12.732175Z"
    }
   },
   "cell_type": "code",
   "source": "array3 = np.arange(0,10)",
   "id": "93e4527cb48f546c",
   "outputs": [],
   "execution_count": 17
  },
  {
   "metadata": {
    "ExecuteTime": {
     "end_time": "2025-02-03T11:05:12.741600Z",
     "start_time": "2025-02-03T11:05:12.739732Z"
    }
   },
   "cell_type": "code",
   "source": "array3",
   "id": "2453b72d8db99a51",
   "outputs": [
    {
     "data": {
      "text/plain": [
       "array([0, 1, 2, 3, 4, 5, 6, 7, 8, 9])"
      ]
     },
     "execution_count": 18,
     "metadata": {},
     "output_type": "execute_result"
    }
   ],
   "execution_count": 18
  },
  {
   "metadata": {
    "ExecuteTime": {
     "end_time": "2025-02-03T11:05:12.752542Z",
     "start_time": "2025-02-03T11:05:12.751129Z"
    }
   },
   "cell_type": "code",
   "source": [
    "# Select the number that grater then four\n",
    "arrayGraterThenFour = array3[array3 > 4]"
   ],
   "id": "3935873697cd2a41",
   "outputs": [],
   "execution_count": 19
  },
  {
   "metadata": {
    "ExecuteTime": {
     "end_time": "2025-02-03T11:05:12.759074Z",
     "start_time": "2025-02-03T11:05:12.757254Z"
    }
   },
   "cell_type": "code",
   "source": "arrayGraterThenFour",
   "id": "bed4bcdf0109f498",
   "outputs": [
    {
     "data": {
      "text/plain": [
       "array([5, 6, 7, 8, 9])"
      ]
     },
     "execution_count": 20,
     "metadata": {},
     "output_type": "execute_result"
    }
   ],
   "execution_count": 20
  },
  {
   "metadata": {
    "ExecuteTime": {
     "end_time": "2025-02-03T11:06:10.938719Z",
     "start_time": "2025-02-03T11:06:10.937044Z"
    }
   },
   "cell_type": "code",
   "source": [
    "twoDArray02 = np.arange(0,25).reshape(5,5)\n",
    "print(twoDArray02)"
   ],
   "id": "797521905d588f7d",
   "outputs": [
    {
     "name": "stdout",
     "output_type": "stream",
     "text": [
      "[[ 0  1  2  3  4]\n",
      " [ 5  6  7  8  9]\n",
      " [10 11 12 13 14]\n",
      " [15 16 17 18 19]\n",
      " [20 21 22 23 24]]\n"
     ]
    }
   ],
   "execution_count": 24
  },
  {
   "metadata": {
    "ExecuteTime": {
     "end_time": "2025-02-03T11:07:33.683385Z",
     "start_time": "2025-02-03T11:07:33.681289Z"
    }
   },
   "cell_type": "code",
   "source": "twoDArray02.sum()",
   "id": "143f287a6c05409d",
   "outputs": [
    {
     "data": {
      "text/plain": [
       "np.int64(300)"
      ]
     },
     "execution_count": 26,
     "metadata": {},
     "output_type": "execute_result"
    }
   ],
   "execution_count": 26
  },
  {
   "metadata": {
    "ExecuteTime": {
     "end_time": "2025-02-03T11:12:17.610914Z",
     "start_time": "2025-02-03T11:12:17.609064Z"
    }
   },
   "cell_type": "code",
   "source": [
    "print(twoDArray02)\n",
    "print(\"---------------\")\n",
    "# axis=0 perform the operation across rows\n",
    "print(twoDArray02.sum(axis=0))"
   ],
   "id": "761b0860749737fc",
   "outputs": [
    {
     "name": "stdout",
     "output_type": "stream",
     "text": [
      "[[ 0  1  2  3  4]\n",
      " [ 5  6  7  8  9]\n",
      " [10 11 12 13 14]\n",
      " [15 16 17 18 19]\n",
      " [20 21 22 23 24]]\n",
      "---------------\n",
      "[50 55 60 65 70]\n"
     ]
    }
   ],
   "execution_count": 30
  },
  {
   "metadata": {
    "ExecuteTime": {
     "end_time": "2025-02-03T11:12:30.557183Z",
     "start_time": "2025-02-03T11:12:30.553036Z"
    }
   },
   "cell_type": "code",
   "source": [
    "print(twoDArray02)\n",
    "print(\"---------------\")\n",
    "# axis=1 perform the operation across column\n",
    "print(twoDArray02.sum(axis=1))"
   ],
   "id": "bee6c55412eaa593",
   "outputs": [
    {
     "name": "stdout",
     "output_type": "stream",
     "text": [
      "[[ 0  1  2  3  4]\n",
      " [ 5  6  7  8  9]\n",
      " [10 11 12 13 14]\n",
      " [15 16 17 18 19]\n",
      " [20 21 22 23 24]]\n",
      "---------------\n",
      "[ 10  35  60  85 110]\n"
     ]
    }
   ],
   "execution_count": 32
  }
 ],
 "metadata": {
  "kernelspec": {
   "display_name": "Python 3",
   "language": "python",
   "name": "python3"
  },
  "language_info": {
   "codemirror_mode": {
    "name": "ipython",
    "version": 2
   },
   "file_extension": ".py",
   "mimetype": "text/x-python",
   "name": "python",
   "nbconvert_exporter": "python",
   "pygments_lexer": "ipython2",
   "version": "2.7.6"
  }
 },
 "nbformat": 4,
 "nbformat_minor": 5
}
