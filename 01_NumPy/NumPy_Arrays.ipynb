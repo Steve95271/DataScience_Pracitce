{
 "cells": [
  {
   "cell_type": "code",
   "id": "initial_id",
   "metadata": {
    "collapsed": true,
    "ExecuteTime": {
     "end_time": "2025-02-03T00:48:49.801116Z",
     "start_time": "2025-02-03T00:48:49.589836Z"
    }
   },
   "source": [
    "import numpy as np\n",
    "import pandas as pd"
   ],
   "outputs": [],
   "execution_count": 2
  },
  {
   "metadata": {
    "ExecuteTime": {
     "end_time": "2025-02-02T23:44:05.421287Z",
     "start_time": "2025-02-02T23:44:05.418769Z"
    }
   },
   "cell_type": "code",
   "source": "mylist = [1,2,3]",
   "id": "49444c214afb8e19",
   "outputs": [],
   "execution_count": 2
  },
  {
   "metadata": {
    "ExecuteTime": {
     "end_time": "2025-02-02T23:44:06.484333Z",
     "start_time": "2025-02-02T23:44:06.482415Z"
    }
   },
   "cell_type": "code",
   "source": "print(mylist)",
   "id": "8715ea3fe54c4386",
   "outputs": [
    {
     "name": "stdout",
     "output_type": "stream",
     "text": [
      "[1, 2, 3]\n"
     ]
    }
   ],
   "execution_count": 3
  },
  {
   "metadata": {
    "ExecuteTime": {
     "end_time": "2025-02-02T23:25:53.088635Z",
     "start_time": "2025-02-02T23:25:53.086097Z"
    }
   },
   "cell_type": "code",
   "source": "type(mylist)",
   "id": "f372263943a802ad",
   "outputs": [
    {
     "data": {
      "text/plain": [
       "list"
      ]
     },
     "execution_count": 5,
     "metadata": {},
     "output_type": "execute_result"
    }
   ],
   "execution_count": 5
  },
  {
   "metadata": {
    "ExecuteTime": {
     "end_time": "2025-02-02T23:44:17.953159Z",
     "start_time": "2025-02-02T23:44:17.951574Z"
    }
   },
   "cell_type": "code",
   "source": "myarr = np.array(mylist)",
   "id": "842a41650529fb92",
   "outputs": [],
   "execution_count": 4
  },
  {
   "metadata": {
    "ExecuteTime": {
     "end_time": "2025-02-02T23:28:12.818149Z",
     "start_time": "2025-02-02T23:28:12.815559Z"
    }
   },
   "cell_type": "code",
   "source": "myarr",
   "id": "5a3c1b65cad79ec3",
   "outputs": [
    {
     "data": {
      "text/plain": [
       "array([1, 2, 3])"
      ]
     },
     "execution_count": 13,
     "metadata": {},
     "output_type": "execute_result"
    }
   ],
   "execution_count": 13
  },
  {
   "metadata": {
    "ExecuteTime": {
     "end_time": "2025-02-02T23:28:21.306439Z",
     "start_time": "2025-02-02T23:28:21.303863Z"
    }
   },
   "cell_type": "code",
   "source": "type(myarr)",
   "id": "577c0fd6adad8001",
   "outputs": [
    {
     "data": {
      "text/plain": [
       "numpy.ndarray"
      ]
     },
     "execution_count": 15,
     "metadata": {},
     "output_type": "execute_result"
    }
   ],
   "execution_count": 15
  },
  {
   "metadata": {
    "ExecuteTime": {
     "end_time": "2025-02-02T23:44:22.256196Z",
     "start_time": "2025-02-02T23:44:22.254444Z"
    }
   },
   "cell_type": "code",
   "source": "my_matrix = [[1,2,3], [4,5,6], [7,8,8]]",
   "id": "bedf67ee8b406e80",
   "outputs": [],
   "execution_count": 5
  },
  {
   "metadata": {
    "ExecuteTime": {
     "end_time": "2025-02-02T23:44:24.156258Z",
     "start_time": "2025-02-02T23:44:24.154048Z"
    }
   },
   "cell_type": "code",
   "source": "my_np_matrix = np.array(my_matrix)",
   "id": "5819f55689f078cd",
   "outputs": [],
   "execution_count": 6
  },
  {
   "metadata": {
    "ExecuteTime": {
     "end_time": "2025-02-02T23:44:55.743184Z",
     "start_time": "2025-02-02T23:44:55.741001Z"
    }
   },
   "cell_type": "code",
   "source": "print(my_np_matrix)",
   "id": "24f00058d102bd17",
   "outputs": [
    {
     "name": "stdout",
     "output_type": "stream",
     "text": [
      "[[1 2 3]\n",
      " [4 5 6]\n",
      " [7 8 8]]\n"
     ]
    }
   ],
   "execution_count": 9
  },
  {
   "metadata": {
    "ExecuteTime": {
     "end_time": "2025-02-02T23:57:34.343219Z",
     "start_time": "2025-02-02T23:57:34.341139Z"
    }
   },
   "cell_type": "code",
   "source": [
    "zero_array = np.zeros(5)\n",
    "print(zero_array)"
   ],
   "id": "d7b81179b0586b50",
   "outputs": [
    {
     "name": "stdout",
     "output_type": "stream",
     "text": [
      "[0. 0. 0. 0. 0.]\n"
     ]
    }
   ],
   "execution_count": 11
  },
  {
   "metadata": {
    "ExecuteTime": {
     "end_time": "2025-02-03T00:24:25.531683Z",
     "start_time": "2025-02-03T00:24:25.529587Z"
    }
   },
   "cell_type": "code",
   "source": [
    "twoD_zero_array = np.zeros((5,5))\n",
    "print(twoD_zero_array)"
   ],
   "id": "56a5d7a6b4a0bf21",
   "outputs": [
    {
     "name": "stdout",
     "output_type": "stream",
     "text": [
      "[[0. 0. 0. 0. 0.]\n",
      " [0. 0. 0. 0. 0.]\n",
      " [0. 0. 0. 0. 0.]\n",
      " [0. 0. 0. 0. 0.]\n",
      " [0. 0. 0. 0. 0.]]\n"
     ]
    }
   ],
   "execution_count": 3
  },
  {
   "metadata": {
    "ExecuteTime": {
     "end_time": "2025-02-03T00:26:26.079692Z",
     "start_time": "2025-02-03T00:26:26.077567Z"
    }
   },
   "cell_type": "code",
   "source": "print(np.ones((5,3)))",
   "id": "95a66a2555cc9e5c",
   "outputs": [
    {
     "name": "stdout",
     "output_type": "stream",
     "text": [
      "[[1. 1. 1.]\n",
      " [1. 1. 1.]\n",
      " [1. 1. 1.]\n",
      " [1. 1. 1.]\n",
      " [1. 1. 1.]]\n"
     ]
    }
   ],
   "execution_count": 11
  },
  {
   "metadata": {
    "ExecuteTime": {
     "end_time": "2025-02-03T00:29:26.351200Z",
     "start_time": "2025-02-03T00:29:26.349099Z"
    }
   },
   "cell_type": "code",
   "source": "np.linspace(0,12,4)",
   "id": "7c3116943b852668",
   "outputs": [
    {
     "data": {
      "text/plain": [
       "array([ 0.,  4.,  8., 12.])"
      ]
     },
     "execution_count": 13,
     "metadata": {},
     "output_type": "execute_result"
    }
   ],
   "execution_count": 13
  },
  {
   "metadata": {
    "ExecuteTime": {
     "end_time": "2025-02-03T00:30:06.833110Z",
     "start_time": "2025-02-03T00:30:06.830517Z"
    }
   },
   "cell_type": "code",
   "source": "np.eye(5)",
   "id": "7ca970d78361e7b4",
   "outputs": [
    {
     "data": {
      "text/plain": [
       "array([[1., 0., 0., 0., 0.],\n",
       "       [0., 1., 0., 0., 0.],\n",
       "       [0., 0., 1., 0., 0.],\n",
       "       [0., 0., 0., 1., 0.],\n",
       "       [0., 0., 0., 0., 1.]])"
      ]
     },
     "execution_count": 15,
     "metadata": {},
     "output_type": "execute_result"
    }
   ],
   "execution_count": 15
  },
  {
   "metadata": {
    "ExecuteTime": {
     "end_time": "2025-02-03T00:51:59.622733Z",
     "start_time": "2025-02-03T00:51:59.620599Z"
    }
   },
   "cell_type": "code",
   "source": "print(np.linspace(0,10,101))",
   "id": "fbec0a652c6ad227",
   "outputs": [
    {
     "name": "stdout",
     "output_type": "stream",
     "text": [
      "[ 0.   0.1  0.2  0.3  0.4  0.5  0.6  0.7  0.8  0.9  1.   1.1  1.2  1.3\n",
      "  1.4  1.5  1.6  1.7  1.8  1.9  2.   2.1  2.2  2.3  2.4  2.5  2.6  2.7\n",
      "  2.8  2.9  3.   3.1  3.2  3.3  3.4  3.5  3.6  3.7  3.8  3.9  4.   4.1\n",
      "  4.2  4.3  4.4  4.5  4.6  4.7  4.8  4.9  5.   5.1  5.2  5.3  5.4  5.5\n",
      "  5.6  5.7  5.8  5.9  6.   6.1  6.2  6.3  6.4  6.5  6.6  6.7  6.8  6.9\n",
      "  7.   7.1  7.2  7.3  7.4  7.5  7.6  7.7  7.8  7.9  8.   8.1  8.2  8.3\n",
      "  8.4  8.5  8.6  8.7  8.8  8.9  9.   9.1  9.2  9.3  9.4  9.5  9.6  9.7\n",
      "  9.8  9.9 10. ]\n"
     ]
    }
   ],
   "execution_count": 14
  }
 ],
 "metadata": {
  "kernelspec": {
   "display_name": "Python 3",
   "language": "python",
   "name": "python3"
  },
  "language_info": {
   "codemirror_mode": {
    "name": "ipython",
    "version": 2
   },
   "file_extension": ".py",
   "mimetype": "text/x-python",
   "name": "python",
   "nbconvert_exporter": "python",
   "pygments_lexer": "ipython2",
   "version": "2.7.6"
  }
 },
 "nbformat": 4,
 "nbformat_minor": 5
}
