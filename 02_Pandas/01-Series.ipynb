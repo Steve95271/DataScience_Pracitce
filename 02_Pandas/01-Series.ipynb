{
 "cells": [
  {
   "metadata": {
    "ExecuteTime": {
     "end_time": "2025-02-05T15:18:49.387382Z",
     "start_time": "2025-02-05T15:18:49.216395Z"
    }
   },
   "cell_type": "code",
   "source": [
    "import numpy as py\n",
    "import pandas as pd"
   ],
   "id": "334cd0cfa402d27",
   "outputs": [],
   "execution_count": 1
  },
  {
   "cell_type": "code",
   "id": "initial_id",
   "metadata": {
    "collapsed": true,
    "ExecuteTime": {
     "end_time": "2025-02-05T15:18:49.391436Z",
     "start_time": "2025-02-05T15:18:49.390034Z"
    }
   },
   "source": [
    "countryIndex = ['USA', 'Canada', 'Mexico']\n",
    "years = [1776, 1867, 1821]"
   ],
   "outputs": [],
   "execution_count": 2
  },
  {
   "metadata": {
    "ExecuteTime": {
     "end_time": "2025-02-05T15:18:49.455704Z",
     "start_time": "2025-02-05T15:18:49.453989Z"
    }
   },
   "cell_type": "code",
   "source": "countrySeries = pd.Series(index = countryIndex, data = years)",
   "id": "7eeedca149dd563",
   "outputs": [],
   "execution_count": 3
  },
  {
   "metadata": {
    "ExecuteTime": {
     "end_time": "2025-02-05T15:18:49.463827Z",
     "start_time": "2025-02-05T15:18:49.460355Z"
    }
   },
   "cell_type": "code",
   "source": "countrySeries",
   "id": "7daf41b3fd03475f",
   "outputs": [
    {
     "data": {
      "text/plain": [
       "USA       1776\n",
       "Canada    1867\n",
       "Mexico    1821\n",
       "dtype: int64"
      ]
     },
     "execution_count": 4,
     "metadata": {},
     "output_type": "execute_result"
    }
   ],
   "execution_count": 4
  },
  {
   "metadata": {},
   "cell_type": "markdown",
   "source": "Converting dictionary into series",
   "id": "f65205251a5908d9"
  },
  {
   "metadata": {
    "ExecuteTime": {
     "end_time": "2025-02-05T15:18:49.484457Z",
     "start_time": "2025-02-05T15:18:49.482858Z"
    }
   },
   "cell_type": "code",
   "source": [
    "Steve = {\n",
    "    \"FirstName\" : \"Steve\",\n",
    "    \"LastName\" : \"Feng\",\n",
    "    \"Age\" : 27,\n",
    "    \"Hobby\" : \"Programming in Java\"\n",
    "}"
   ],
   "id": "b639b3bb0f9c7980",
   "outputs": [],
   "execution_count": 5
  },
  {
   "metadata": {
    "ExecuteTime": {
     "end_time": "2025-02-05T15:18:49.506470Z",
     "start_time": "2025-02-05T15:18:49.504891Z"
    }
   },
   "cell_type": "code",
   "source": "steveSeries = pd.Series(Steve)",
   "id": "34053a6ad13900e2",
   "outputs": [],
   "execution_count": 6
  },
  {
   "metadata": {
    "ExecuteTime": {
     "end_time": "2025-02-05T15:18:49.522963Z",
     "start_time": "2025-02-05T15:18:49.516486Z"
    }
   },
   "cell_type": "code",
   "source": "steveSeries",
   "id": "5b82e0161267b863",
   "outputs": [
    {
     "data": {
      "text/plain": [
       "FirstName                  Steve\n",
       "LastName                    Feng\n",
       "Age                           27\n",
       "Hobby        Programming in Java\n",
       "dtype: object"
      ]
     },
     "execution_count": 7,
     "metadata": {},
     "output_type": "execute_result"
    }
   ],
   "execution_count": 7
  },
  {
   "metadata": {
    "ExecuteTime": {
     "end_time": "2025-02-05T15:18:49.574383Z",
     "start_time": "2025-02-05T15:18:49.572187Z"
    }
   },
   "cell_type": "code",
   "source": "type(steveSeries)",
   "id": "66aca2553e03962c",
   "outputs": [
    {
     "data": {
      "text/plain": [
       "pandas.core.series.Series"
      ]
     },
     "execution_count": 8,
     "metadata": {},
     "output_type": "execute_result"
    }
   ],
   "execution_count": 8
  },
  {
   "metadata": {
    "ExecuteTime": {
     "end_time": "2025-02-05T15:18:49.596924Z",
     "start_time": "2025-02-05T15:18:49.594866Z"
    }
   },
   "cell_type": "code",
   "source": "steveSeries.dtype",
   "id": "834cff22ee7a547b",
   "outputs": [
    {
     "data": {
      "text/plain": [
       "dtype('O')"
      ]
     },
     "execution_count": 9,
     "metadata": {},
     "output_type": "execute_result"
    }
   ],
   "execution_count": 9
  },
  {
   "metadata": {
    "ExecuteTime": {
     "end_time": "2025-02-05T15:18:49.613048Z",
     "start_time": "2025-02-05T15:18:49.611242Z"
    }
   },
   "cell_type": "code",
   "source": [
    "# Imaginary Sales Data for 1st and 2nd Quarters for Global Company\n",
    "q1 = {'Japan': 80, 'China': 450, 'India': 200, 'USA': 250}\n",
    "q2 = {'Brazil': 100,'China': 500, 'India': 210,'USA': 260}"
   ],
   "id": "84d651530f9c2f39",
   "outputs": [],
   "execution_count": 10
  },
  {
   "metadata": {
    "ExecuteTime": {
     "end_time": "2025-02-05T15:18:49.635178Z",
     "start_time": "2025-02-05T15:18:49.633423Z"
    }
   },
   "cell_type": "code",
   "source": [
    "sales_q1 = pd.Series(q1)\n",
    "sales_q2 = pd.Series(q2)"
   ],
   "id": "b0a01e47c9c6add7",
   "outputs": [],
   "execution_count": 11
  },
  {
   "metadata": {
    "ExecuteTime": {
     "end_time": "2025-02-05T15:18:49.651583Z",
     "start_time": "2025-02-05T15:18:49.649437Z"
    }
   },
   "cell_type": "code",
   "source": "sales_q1",
   "id": "f1a1bd66cb03478",
   "outputs": [
    {
     "data": {
      "text/plain": [
       "Japan     80\n",
       "China    450\n",
       "India    200\n",
       "USA      250\n",
       "dtype: int64"
      ]
     },
     "execution_count": 12,
     "metadata": {},
     "output_type": "execute_result"
    }
   ],
   "execution_count": 12
  },
  {
   "metadata": {
    "ExecuteTime": {
     "end_time": "2025-02-05T15:18:49.706287Z",
     "start_time": "2025-02-05T15:18:49.703897Z"
    }
   },
   "cell_type": "code",
   "source": "sales_q2",
   "id": "64450977c70e5671",
   "outputs": [
    {
     "data": {
      "text/plain": [
       "Brazil    100\n",
       "China     500\n",
       "India     210\n",
       "USA       260\n",
       "dtype: int64"
      ]
     },
     "execution_count": 13,
     "metadata": {},
     "output_type": "execute_result"
    }
   ],
   "execution_count": 13
  },
  {
   "metadata": {
    "ExecuteTime": {
     "end_time": "2025-02-05T15:18:49.730183Z",
     "start_time": "2025-02-05T15:18:49.727425Z"
    }
   },
   "cell_type": "code",
   "source": "sales_q1 + sales_q2",
   "id": "42957ada4ff85547",
   "outputs": [
    {
     "data": {
      "text/plain": [
       "Brazil      NaN\n",
       "China     950.0\n",
       "India     410.0\n",
       "Japan       NaN\n",
       "USA       510.0\n",
       "dtype: float64"
      ]
     },
     "execution_count": 14,
     "metadata": {},
     "output_type": "execute_result"
    }
   ],
   "execution_count": 14
  },
  {
   "metadata": {
    "ExecuteTime": {
     "end_time": "2025-02-05T15:18:49.774496Z",
     "start_time": "2025-02-05T15:18:49.771824Z"
    }
   },
   "cell_type": "code",
   "source": "sales_q1.add(sales_q2, fill_value=0)",
   "id": "1f7ee0c017d8d2dc",
   "outputs": [
    {
     "data": {
      "text/plain": [
       "Brazil    100.0\n",
       "China     950.0\n",
       "India     410.0\n",
       "Japan      80.0\n",
       "USA       510.0\n",
       "dtype: float64"
      ]
     },
     "execution_count": 15,
     "metadata": {},
     "output_type": "execute_result"
    }
   ],
   "execution_count": 15
  }
 ],
 "metadata": {
  "kernelspec": {
   "display_name": "Python 3",
   "language": "python",
   "name": "python3"
  },
  "language_info": {
   "codemirror_mode": {
    "name": "ipython",
    "version": 2
   },
   "file_extension": ".py",
   "mimetype": "text/x-python",
   "name": "python",
   "nbconvert_exporter": "python",
   "pygments_lexer": "ipython2",
   "version": "2.7.6"
  }
 },
 "nbformat": 4,
 "nbformat_minor": 5
}
