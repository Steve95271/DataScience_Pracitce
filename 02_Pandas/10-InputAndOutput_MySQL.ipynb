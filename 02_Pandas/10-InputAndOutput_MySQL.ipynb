{
 "cells": [
  {
   "cell_type": "code",
   "id": "initial_id",
   "metadata": {
    "collapsed": true,
    "ExecuteTime": {
     "end_time": "2025-02-19T15:40:24.233107Z",
     "start_time": "2025-02-19T15:40:24.230522Z"
    }
   },
   "source": "import mysql.connector as mysql",
   "outputs": [],
   "execution_count": 55
  },
  {
   "metadata": {
    "ExecuteTime": {
     "end_time": "2025-02-19T15:40:51.377087Z",
     "start_time": "2025-02-19T15:40:51.365706Z"
    }
   },
   "cell_type": "code",
   "source": [
    "connection = mysql.connect(\n",
    "    host=\"localhost\",\n",
    "    user=\"root\",\n",
    "    password='12345678',\n",
    "    database='cardiff_drinks'\n",
    ")"
   ],
   "id": "579576cd030084df",
   "outputs": [],
   "execution_count": 59
  },
  {
   "metadata": {
    "ExecuteTime": {
     "end_time": "2025-02-19T15:40:26.561505Z",
     "start_time": "2025-02-19T15:40:26.557942Z"
    }
   },
   "cell_type": "code",
   "source": [
    "try:\n",
    "    with connection.cursor() as cursor:\n",
    "        cursor.execute(\"SELECT * FROM clients WHERE client_id = 1001\")\n",
    "        client = cursor.fetchall()\n",
    "        print(client)\n",
    "finally:\n",
    "    connection.close()\n"
   ],
   "id": "c2b0455454ae0793",
   "outputs": [
    {
     "name": "stdout",
     "output_type": "stream",
     "text": [
      "[(1001, 'Quality_Merchant_Services', 'www.quality-merchant-services.com', 'Christopher Shanley', 321500)]\n"
     ]
    }
   ],
   "execution_count": 57
  },
  {
   "metadata": {
    "ExecuteTime": {
     "end_time": "2025-02-19T15:40:52.730481Z",
     "start_time": "2025-02-19T15:40:52.727292Z"
    }
   },
   "cell_type": "code",
   "source": [
    "try:\n",
    "    with connection.cursor() as cursor:\n",
    "        cursor.execute(\"SELECT * FROM clients WHERE client_id = 1002\")\n",
    "        client = cursor.fetchall()\n",
    "        print(client)\n",
    "finally:\n",
    "    connection.close()"
   ],
   "id": "2721af651043fcaa",
   "outputs": [
    {
     "name": "stdout",
     "output_type": "stream",
     "text": [
      "[]\n"
     ]
    }
   ],
   "execution_count": 60
  }
 ],
 "metadata": {
  "kernelspec": {
   "display_name": "Python 3",
   "language": "python",
   "name": "python3"
  },
  "language_info": {
   "codemirror_mode": {
    "name": "ipython",
    "version": 2
   },
   "file_extension": ".py",
   "mimetype": "text/x-python",
   "name": "python",
   "nbconvert_exporter": "python",
   "pygments_lexer": "ipython2",
   "version": "2.7.6"
  }
 },
 "nbformat": 4,
 "nbformat_minor": 5
}
