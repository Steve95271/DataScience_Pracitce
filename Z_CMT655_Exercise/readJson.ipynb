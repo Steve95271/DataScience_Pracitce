{
 "cells": [
  {
   "cell_type": "code",
   "id": "initial_id",
   "metadata": {
    "collapsed": true,
    "ExecuteTime": {
     "end_time": "2025-02-19T16:52:12.974721Z",
     "start_time": "2025-02-19T16:52:12.972352Z"
    }
   },
   "source": [
    "import json\n",
    "import pandas as pd"
   ],
   "outputs": [],
   "execution_count": 4
  },
  {
   "metadata": {
    "ExecuteTime": {
     "end_time": "2025-02-19T16:54:02.698466Z",
     "start_time": "2025-02-19T16:54:02.685425Z"
    }
   },
   "cell_type": "code",
   "source": [
    "with open('prize.json', 'r', encoding='utf-8') as f:\n",
    "    data = json.load(f)\n",
    "\n",
    "# 2. 定义 category -> categoryID 的映射\n",
    "category_map = {\n",
    "    'chemistry': 0,\n",
    "    'economics': 1,\n",
    "    'literature': 2,\n",
    "    'peace': 3,\n",
    "    'physics': 4,\n",
    "    'medicine': 5\n",
    "}\n",
    "\n",
    "# 生成 category 表 DataFrame\n",
    "category_df = pd.DataFrame([\n",
    "    {'categoryID': cat_id, 'category': cat_name}\n",
    "    for cat_name, cat_id in category_map.items()\n",
    "])\n",
    "\n",
    "# 3. 遍历 prizes，构造 laureates 表的原始数据\n",
    "laureates_data = []\n",
    "for prize in data[\"prizes\"]:\n",
    "    year = prize[\"year\"]\n",
    "    category_str = prize[\"category\"]\n",
    "    cat_id = category_map[category_str]\n",
    "\n",
    "    # 若不存在 overallMotivation，则置 None\n",
    "    overall_motivation = prize.get(\"overallMotivation\", None)\n",
    "\n",
    "    # 注意：使用 get(\"laureates\", []) 来防止某些 prize 没有 \"laureates\" 字段时出错\n",
    "    for laureate in prize.get(\"laureates\", []):\n",
    "        laureate_id = laureate[\"id\"]\n",
    "        firstname = laureate.get(\"firstname\", \"\")\n",
    "        surname = laureate.get(\"surname\", \"\")\n",
    "        motivation = laureate.get(\"motivation\", \"\")\n",
    "\n",
    "        laureates_data.append({\n",
    "            \"laureateID\": laureate_id,\n",
    "            \"name\": firstname,\n",
    "            \"surname\": surname,\n",
    "            \"categoryID\": cat_id,\n",
    "            \"year\": year,\n",
    "            \"motivation\": motivation,\n",
    "            \"overall_motivation\": overall_motivation\n",
    "        })\n",
    "\n",
    "# 4. 构造 laureates DataFrame\n",
    "laureates_df = pd.DataFrame(laureates_data)\n",
    "\n",
    "# 5. 打印查看\n",
    "print(\"=== category_df ===\")\n",
    "print(category_df)\n",
    "print(\"\\n=== laureates_df（前5行）===\")\n",
    "print(laureates_df.head())\n",
    "\n"
   ],
   "id": "f702edf755babb07",
   "outputs": [
    {
     "name": "stdout",
     "output_type": "stream",
     "text": [
      "=== category_df ===\n",
      "   categoryID    category\n",
      "0           0   chemistry\n",
      "1           1   economics\n",
      "2           2  literature\n",
      "3           3       peace\n",
      "4           4     physics\n",
      "5           5    medicine\n",
      "\n",
      "=== laureates_df（前5行）===\n",
      "  laureateID        name      surname  categoryID  year  \\\n",
      "0        976        John   Goodenough           0  2019   \n",
      "1        977  M. Stanley  Whittingham           0  2019   \n",
      "2        978       Akira      Yoshino           0  2019   \n",
      "3        982     Abhijit     Banerjee           1  2019   \n",
      "4        983      Esther        Duflo           1  2019   \n",
      "\n",
      "                                          motivation overall_motivation  \n",
      "0     \"for the development of lithium-ion batteries\"               None  \n",
      "1     \"for the development of lithium-ion batteries\"               None  \n",
      "2     \"for the development of lithium-ion batteries\"               None  \n",
      "3  \"for their experimental approach to alleviatin...               None  \n",
      "4  \"for their experimental approach to alleviatin...               None  \n"
     ]
    }
   ],
   "execution_count": 7
  }
 ],
 "metadata": {
  "kernelspec": {
   "display_name": "Python 3",
   "language": "python",
   "name": "python3"
  },
  "language_info": {
   "codemirror_mode": {
    "name": "ipython",
    "version": 2
   },
   "file_extension": ".py",
   "mimetype": "text/x-python",
   "name": "python",
   "nbconvert_exporter": "python",
   "pygments_lexer": "ipython2",
   "version": "2.7.6"
  }
 },
 "nbformat": 4,
 "nbformat_minor": 5
}
